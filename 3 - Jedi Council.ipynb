{
 "cells": [
  {
   "cell_type": "markdown",
   "metadata": {},
   "source": [
    "# Jedi Council sentiments"
   ]
  },
  {
   "cell_type": "markdown",
   "metadata": {},
   "source": [
    "![picture](./images/jedi-council.png)"
   ]
  },
  {
   "cell_type": "code",
   "execution_count": 39,
   "metadata": {},
   "outputs": [],
   "source": [
    "import pandas as pd"
   ]
  },
  {
   "cell_type": "code",
   "execution_count": 40,
   "metadata": {},
   "outputs": [],
   "source": [
    "yoda = pd.read_csv('inputs/yoda-dialogues.csv')"
   ]
  },
  {
   "cell_type": "code",
   "execution_count": 60,
   "metadata": {},
   "outputs": [],
   "source": [
    "yoda_filt = yoda[(yoda['character'] != 'narrator') & (yoda['scene']==134)][['character','text']].reset_index()"
   ]
  },
  {
   "cell_type": "code",
   "execution_count": 61,
   "metadata": {},
   "outputs": [
    {
     "data": {
      "text/html": [
       "<div>\n",
       "<style scoped>\n",
       "    .dataframe tbody tr th:only-of-type {\n",
       "        vertical-align: middle;\n",
       "    }\n",
       "\n",
       "    .dataframe tbody tr th {\n",
       "        vertical-align: top;\n",
       "    }\n",
       "\n",
       "    .dataframe thead th {\n",
       "        text-align: right;\n",
       "    }\n",
       "</style>\n",
       "<table border=\"1\" class=\"dataframe\">\n",
       "  <thead>\n",
       "    <tr style=\"text-align: right;\">\n",
       "      <th></th>\n",
       "      <th>index</th>\n",
       "      <th>character</th>\n",
       "      <th>text</th>\n",
       "    </tr>\n",
       "  </thead>\n",
       "  <tbody>\n",
       "    <tr>\n",
       "      <th>0</th>\n",
       "      <td>28</td>\n",
       "      <td>ANAKIN</td>\n",
       "      <td>A ship...a cup...a speeder.</td>\n",
       "    </tr>\n",
       "    <tr>\n",
       "      <th>1</th>\n",
       "      <td>30</td>\n",
       "      <td>YODA</td>\n",
       "      <td>Good, good, young one. How feel you?</td>\n",
       "    </tr>\n",
       "    <tr>\n",
       "      <th>2</th>\n",
       "      <td>31</td>\n",
       "      <td>ANAKIN</td>\n",
       "      <td>Cold, sir.</td>\n",
       "    </tr>\n",
       "    <tr>\n",
       "      <th>3</th>\n",
       "      <td>32</td>\n",
       "      <td>YODA</td>\n",
       "      <td>Afraid are you?</td>\n",
       "    </tr>\n",
       "    <tr>\n",
       "      <th>4</th>\n",
       "      <td>33</td>\n",
       "      <td>ANAKIN</td>\n",
       "      <td>No, sir.</td>\n",
       "    </tr>\n",
       "    <tr>\n",
       "      <th>5</th>\n",
       "      <td>34</td>\n",
       "      <td>MACE WINDU</td>\n",
       "      <td>Afraid to give up your life?</td>\n",
       "    </tr>\n",
       "    <tr>\n",
       "      <th>6</th>\n",
       "      <td>35</td>\n",
       "      <td>ANAKIN</td>\n",
       "      <td>I don't think so.</td>\n",
       "    </tr>\n",
       "    <tr>\n",
       "      <th>7</th>\n",
       "      <td>37</td>\n",
       "      <td>YODA</td>\n",
       "      <td>See through you, we can.</td>\n",
       "    </tr>\n",
       "    <tr>\n",
       "      <th>8</th>\n",
       "      <td>38</td>\n",
       "      <td>MACE WINDU</td>\n",
       "      <td>Be mindful of your feelings...</td>\n",
       "    </tr>\n",
       "    <tr>\n",
       "      <th>9</th>\n",
       "      <td>39</td>\n",
       "      <td>KI-ADI</td>\n",
       "      <td>YOur thoughts dwell on your mother.</td>\n",
       "    </tr>\n",
       "    <tr>\n",
       "      <th>10</th>\n",
       "      <td>40</td>\n",
       "      <td>ANAKIN</td>\n",
       "      <td>I miss her.</td>\n",
       "    </tr>\n",
       "    <tr>\n",
       "      <th>11</th>\n",
       "      <td>41</td>\n",
       "      <td>YODA</td>\n",
       "      <td>Afraid to lose her..I think.</td>\n",
       "    </tr>\n",
       "    <tr>\n",
       "      <th>12</th>\n",
       "      <td>42</td>\n",
       "      <td>ANAKIN</td>\n",
       "      <td>(a little angry) What's that got to do with an...</td>\n",
       "    </tr>\n",
       "    <tr>\n",
       "      <th>13</th>\n",
       "      <td>43</td>\n",
       "      <td>YODA</td>\n",
       "      <td>Eveything. Fear is the path to the dark side.....</td>\n",
       "    </tr>\n",
       "    <tr>\n",
       "      <th>14</th>\n",
       "      <td>44</td>\n",
       "      <td>ANAKIN</td>\n",
       "      <td>(angrily) I am not afraid!</td>\n",
       "    </tr>\n",
       "    <tr>\n",
       "      <th>15</th>\n",
       "      <td>45</td>\n",
       "      <td>YODA</td>\n",
       "      <td>A Jedi must have the deepest commitment, the m...</td>\n",
       "    </tr>\n",
       "    <tr>\n",
       "      <th>16</th>\n",
       "      <td>46</td>\n",
       "      <td>ANAKIN</td>\n",
       "      <td>(quietly) I am not afraid.</td>\n",
       "    </tr>\n",
       "    <tr>\n",
       "      <th>17</th>\n",
       "      <td>47</td>\n",
       "      <td>YODA</td>\n",
       "      <td>Then continue, we will.</td>\n",
       "    </tr>\n",
       "  </tbody>\n",
       "</table>\n",
       "</div>"
      ],
      "text/plain": [
       "    index   character                                               text\n",
       "0      28      ANAKIN                        A ship...a cup...a speeder.\n",
       "1      30        YODA               Good, good, young one. How feel you?\n",
       "2      31      ANAKIN                                         Cold, sir.\n",
       "3      32        YODA                                    Afraid are you?\n",
       "4      33      ANAKIN                                           No, sir.\n",
       "5      34  MACE WINDU                       Afraid to give up your life?\n",
       "6      35      ANAKIN                                  I don't think so.\n",
       "7      37        YODA                           See through you, we can.\n",
       "8      38  MACE WINDU                     Be mindful of your feelings...\n",
       "9      39      KI-ADI                YOur thoughts dwell on your mother.\n",
       "10     40      ANAKIN                                        I miss her.\n",
       "11     41        YODA                       Afraid to lose her..I think.\n",
       "12     42      ANAKIN  (a little angry) What's that got to do with an...\n",
       "13     43        YODA  Eveything. Fear is the path to the dark side.....\n",
       "14     44      ANAKIN                         (angrily) I am not afraid!\n",
       "15     45        YODA  A Jedi must have the deepest commitment, the m...\n",
       "16     46      ANAKIN                         (quietly) I am not afraid.\n",
       "17     47        YODA                            Then continue, we will."
      ]
     },
     "execution_count": 61,
     "metadata": {},
     "output_type": "execute_result"
    }
   ],
   "source": [
    "yoda_filt"
   ]
  },
  {
   "cell_type": "code",
   "execution_count": 43,
   "metadata": {},
   "outputs": [],
   "source": [
    "import requests"
   ]
  },
  {
   "cell_type": "code",
   "execution_count": 44,
   "metadata": {},
   "outputs": [],
   "source": [
    "for jedi in list(yoda_filt['character'].unique()):\n",
    "    requests.get(f'http://localhost:5000/user/create/{jedi}')"
   ]
  },
  {
   "cell_type": "code",
   "execution_count": 45,
   "metadata": {},
   "outputs": [],
   "source": [
    "data = {\"nombre\":\"Jedi Council, Ep I\",\n",
    "        \"usuarios\":[11,12,13,14]}\n",
    "response = requests.get('http://localhost:5000/chat/create', params=data)"
   ]
  },
  {
   "cell_type": "code",
   "execution_count": null,
   "metadata": {},
   "outputs": [],
   "source": [
    "# cambiar a añadir nombres, no ids\n",
    "# que devuelva el id del chat aquí"
   ]
  },
  {
   "cell_type": "code",
   "execution_count": 62,
   "metadata": {},
   "outputs": [],
   "source": [
    "userids = pd.DataFrame(list(zip([11,12,13,14], list(yoda_filt['character'].unique()))),columns =['id', 'character'])"
   ]
  },
  {
   "cell_type": "code",
   "execution_count": 65,
   "metadata": {},
   "outputs": [],
   "source": [
    "result = pd.merge(yoda_filt, userids, on='character').sort_values('index')"
   ]
  },
  {
   "cell_type": "code",
   "execution_count": 76,
   "metadata": {},
   "outputs": [],
   "source": [
    "for a, b in zip(result['id'], result['text']):\n",
    "    response = requests.get('http://localhost:5000/chat/1002/addmessage', params={\"usuario\":a,\"mensaje\":b})"
   ]
  },
  {
   "cell_type": "code",
   "execution_count": null,
   "metadata": {},
   "outputs": [],
   "source": [
    "\n",
    "\n",
    "\n"
   ]
  },
  {
   "cell_type": "code",
   "execution_count": 85,
   "metadata": {},
   "outputs": [
    {
     "data": {
      "text/plain": [
       "{'compound': -0.9615, 'neg': 0.222, 'neu': 0.703, 'pos': 0.075}"
      ]
     },
     "execution_count": 85,
     "metadata": {},
     "output_type": "execute_result"
    }
   ],
   "source": [
    "response = requests.get('http://localhost:5000/chat/1002/sentiment').json()\n",
    "response"
   ]
  },
  {
   "cell_type": "markdown",
   "metadata": {},
   "source": [
    "- positive sentiment: compound score >= 0.05\n",
    "- neutral sentiment: (compound score > -0.05) and (compound score < 0.05)\n",
    "- negative sentiment: compound score <= -0.05"
   ]
  },
  {
   "cell_type": "code",
   "execution_count": null,
   "metadata": {},
   "outputs": [],
   "source": []
  }
 ],
 "metadata": {
  "kernelspec": {
   "display_name": "Python 3",
   "language": "python",
   "name": "python3"
  },
  "language_info": {
   "codemirror_mode": {
    "name": "ipython",
    "version": 3
   },
   "file_extension": ".py",
   "mimetype": "text/x-python",
   "name": "python",
   "nbconvert_exporter": "python",
   "pygments_lexer": "ipython3",
   "version": "3.7.6"
  }
 },
 "nbformat": 4,
 "nbformat_minor": 4
}
