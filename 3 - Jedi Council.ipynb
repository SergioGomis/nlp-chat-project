{
 "cells": [
  {
   "cell_type": "markdown",
   "metadata": {},
   "source": [
    "# Jedi Council sentiments"
   ]
  },
  {
   "cell_type": "markdown",
   "metadata": {},
   "source": [
    "### \"Fear is the path to the dark side... fear leads to anger... anger leads to hate.. hate leads to suffering.\""
   ]
  },
  {
   "cell_type": "markdown",
   "metadata": {},
   "source": [
    "![picture](./images/jedi-council.png)"
   ]
  },
  {
   "cell_type": "markdown",
   "metadata": {},
   "source": [
    "Vamos a analizar con nuestra API el sentimiento de este famoso diálogo del Episodio I. Importamos brevemente el dataset y nos quedamos con las frases que nos interesan."
   ]
  },
  {
   "cell_type": "code",
   "execution_count": 1,
   "metadata": {},
   "outputs": [
    {
     "data": {
      "text/html": [
       "<div>\n",
       "<style scoped>\n",
       "    .dataframe tbody tr th:only-of-type {\n",
       "        vertical-align: middle;\n",
       "    }\n",
       "\n",
       "    .dataframe tbody tr th {\n",
       "        vertical-align: top;\n",
       "    }\n",
       "\n",
       "    .dataframe thead th {\n",
       "        text-align: right;\n",
       "    }\n",
       "</style>\n",
       "<table border=\"1\" class=\"dataframe\">\n",
       "  <thead>\n",
       "    <tr style=\"text-align: right;\">\n",
       "      <th></th>\n",
       "      <th>character</th>\n",
       "      <th>text</th>\n",
       "    </tr>\n",
       "  </thead>\n",
       "  <tbody>\n",
       "    <tr>\n",
       "      <th>28</th>\n",
       "      <td>ANAKIN</td>\n",
       "      <td>A ship...a cup...a speeder.</td>\n",
       "    </tr>\n",
       "    <tr>\n",
       "      <th>30</th>\n",
       "      <td>YODA</td>\n",
       "      <td>Good, good, young one. How feel you?</td>\n",
       "    </tr>\n",
       "    <tr>\n",
       "      <th>31</th>\n",
       "      <td>ANAKIN</td>\n",
       "      <td>Cold, sir.</td>\n",
       "    </tr>\n",
       "    <tr>\n",
       "      <th>32</th>\n",
       "      <td>YODA</td>\n",
       "      <td>Afraid are you?</td>\n",
       "    </tr>\n",
       "    <tr>\n",
       "      <th>33</th>\n",
       "      <td>ANAKIN</td>\n",
       "      <td>No, sir.</td>\n",
       "    </tr>\n",
       "    <tr>\n",
       "      <th>34</th>\n",
       "      <td>MACE WINDU</td>\n",
       "      <td>Afraid to give up your life?</td>\n",
       "    </tr>\n",
       "    <tr>\n",
       "      <th>35</th>\n",
       "      <td>ANAKIN</td>\n",
       "      <td>I don't think so.</td>\n",
       "    </tr>\n",
       "    <tr>\n",
       "      <th>37</th>\n",
       "      <td>YODA</td>\n",
       "      <td>See through you, we can.</td>\n",
       "    </tr>\n",
       "    <tr>\n",
       "      <th>38</th>\n",
       "      <td>MACE WINDU</td>\n",
       "      <td>Be mindful of your feelings...</td>\n",
       "    </tr>\n",
       "    <tr>\n",
       "      <th>39</th>\n",
       "      <td>KI-ADI</td>\n",
       "      <td>YOur thoughts dwell on your mother.</td>\n",
       "    </tr>\n",
       "    <tr>\n",
       "      <th>40</th>\n",
       "      <td>ANAKIN</td>\n",
       "      <td>I miss her.</td>\n",
       "    </tr>\n",
       "    <tr>\n",
       "      <th>41</th>\n",
       "      <td>YODA</td>\n",
       "      <td>Afraid to lose her..I think.</td>\n",
       "    </tr>\n",
       "    <tr>\n",
       "      <th>42</th>\n",
       "      <td>ANAKIN</td>\n",
       "      <td>(a little angry) What's that got to do with an...</td>\n",
       "    </tr>\n",
       "    <tr>\n",
       "      <th>43</th>\n",
       "      <td>YODA</td>\n",
       "      <td>Eveything. Fear is the path to the dark side.....</td>\n",
       "    </tr>\n",
       "    <tr>\n",
       "      <th>44</th>\n",
       "      <td>ANAKIN</td>\n",
       "      <td>(angrily) I am not afraid!</td>\n",
       "    </tr>\n",
       "    <tr>\n",
       "      <th>45</th>\n",
       "      <td>YODA</td>\n",
       "      <td>A Jedi must have the deepest commitment, the m...</td>\n",
       "    </tr>\n",
       "    <tr>\n",
       "      <th>46</th>\n",
       "      <td>ANAKIN</td>\n",
       "      <td>(quietly) I am not afraid.</td>\n",
       "    </tr>\n",
       "    <tr>\n",
       "      <th>47</th>\n",
       "      <td>YODA</td>\n",
       "      <td>Then continue, we will.</td>\n",
       "    </tr>\n",
       "  </tbody>\n",
       "</table>\n",
       "</div>"
      ],
      "text/plain": [
       "     character                                               text\n",
       "28      ANAKIN                        A ship...a cup...a speeder.\n",
       "30        YODA               Good, good, young one. How feel you?\n",
       "31      ANAKIN                                         Cold, sir.\n",
       "32        YODA                                    Afraid are you?\n",
       "33      ANAKIN                                           No, sir.\n",
       "34  MACE WINDU                       Afraid to give up your life?\n",
       "35      ANAKIN                                  I don't think so.\n",
       "37        YODA                           See through you, we can.\n",
       "38  MACE WINDU                     Be mindful of your feelings...\n",
       "39      KI-ADI                YOur thoughts dwell on your mother.\n",
       "40      ANAKIN                                        I miss her.\n",
       "41        YODA                       Afraid to lose her..I think.\n",
       "42      ANAKIN  (a little angry) What's that got to do with an...\n",
       "43        YODA  Eveything. Fear is the path to the dark side.....\n",
       "44      ANAKIN                         (angrily) I am not afraid!\n",
       "45        YODA  A Jedi must have the deepest commitment, the m...\n",
       "46      ANAKIN                         (quietly) I am not afraid.\n",
       "47        YODA                            Then continue, we will."
      ]
     },
     "execution_count": 1,
     "metadata": {},
     "output_type": "execute_result"
    }
   ],
   "source": [
    "import pandas as pd\n",
    "yoda = pd.read_csv('inputs/yoda-dialogues.csv')\n",
    "yoda_filt = yoda[(yoda['character'] != 'narrator') & (yoda['scene']==134)][['character','text']]\n",
    "yoda_filt"
   ]
  },
  {
   "cell_type": "markdown",
   "metadata": {},
   "source": [
    "### Ahora insertamos el dataset en MongoDB con llamadas a la API"
   ]
  },
  {
   "cell_type": "code",
   "execution_count": 2,
   "metadata": {},
   "outputs": [],
   "source": [
    "import requests"
   ]
  },
  {
   "cell_type": "markdown",
   "metadata": {},
   "source": [
    "Insertamos a los personajes que participan"
   ]
  },
  {
   "cell_type": "code",
   "execution_count": 3,
   "metadata": {},
   "outputs": [
    {
     "name": "stdout",
     "output_type": "stream",
     "text": [
      "Usuario ANAKIN añadido con id 12\n",
      "Usuario YODA añadido con id 13\n",
      "Usuario MACE WINDU añadido con id 14\n",
      "Usuario KI-ADI añadido con id 15\n"
     ]
    }
   ],
   "source": [
    "jedis = list(yoda_filt['character'].unique())\n",
    "for jedi in jedis:\n",
    "    res = requests.get(f'http://localhost:5000/user/create/{jedi}').text\n",
    "    print(res)"
   ]
  },
  {
   "cell_type": "markdown",
   "metadata": {},
   "source": [
    "Creamos un grupo con ellos"
   ]
  },
  {
   "cell_type": "code",
   "execution_count": 4,
   "metadata": {},
   "outputs": [
    {
     "name": "stdout",
     "output_type": "stream",
     "text": [
      "Chat 1003 creado correctamente\n"
     ]
    }
   ],
   "source": [
    "data = {\"nombre\":\"Jedi Council, Ep I\",\n",
    "        \"usuarios\":jedis}\n",
    "resultado = requests.get('http://localhost:5000/chat/create', params=data).text\n",
    "print(resultado)"
   ]
  },
  {
   "cell_type": "code",
   "execution_count": 5,
   "metadata": {},
   "outputs": [],
   "source": [
    "chatid = resultado[5:9]"
   ]
  },
  {
   "cell_type": "markdown",
   "metadata": {},
   "source": [
    "Insertamos los mensajes"
   ]
  },
  {
   "cell_type": "code",
   "execution_count": 6,
   "metadata": {},
   "outputs": [
    {
     "name": "stdout",
     "output_type": "stream",
     "text": [
      "✓✓ Mensaje enviado\n",
      "✓✓ Mensaje enviado\n",
      "✓✓ Mensaje enviado\n",
      "✓✓ Mensaje enviado\n",
      "✓✓ Mensaje enviado\n",
      "✓✓ Mensaje enviado\n",
      "✓✓ Mensaje enviado\n",
      "✓✓ Mensaje enviado\n",
      "✓✓ Mensaje enviado\n",
      "✓✓ Mensaje enviado\n",
      "✓✓ Mensaje enviado\n",
      "✓✓ Mensaje enviado\n",
      "✓✓ Mensaje enviado\n",
      "✓✓ Mensaje enviado\n",
      "✓✓ Mensaje enviado\n",
      "✓✓ Mensaje enviado\n",
      "✓✓ Mensaje enviado\n",
      "✓✓ Mensaje enviado\n"
     ]
    }
   ],
   "source": [
    "for a, b in zip(yoda_filt['character'], yoda_filt['text']):\n",
    "    enviado = requests.get(f'http://localhost:5000/chat/{chatid}/addmessage', params={\"usuario\":a,\"mensaje\":b}).text\n",
    "    print(enviado)"
   ]
  },
  {
   "cell_type": "markdown",
   "metadata": {},
   "source": [
    "Analizamos el sentimiento del diálogo, que como vemos sale más negativo que positivo:"
   ]
  },
  {
   "cell_type": "code",
   "execution_count": 7,
   "metadata": {},
   "outputs": [
    {
     "data": {
      "text/plain": [
       "{'compound': -0.9615, 'neg': 0.222, 'neu': 0.703, 'pos': 0.075}"
      ]
     },
     "execution_count": 7,
     "metadata": {},
     "output_type": "execute_result"
    }
   ],
   "source": [
    "response = requests.get(f'http://localhost:5000/chat/{chatid}/sentiment').json()\n",
    "response"
   ]
  },
  {
   "cell_type": "markdown",
   "metadata": {},
   "source": [
    "From the documentation:\n",
    "- positive sentiment: compound score >= 0.05\n",
    "- neutral sentiment: (compound score > -0.05) and (compound score < 0.05)\n",
    "- negative sentiment: compound score <= -0.05"
   ]
  },
  {
   "cell_type": "code",
   "execution_count": 8,
   "metadata": {},
   "outputs": [
    {
     "data": {
      "text/plain": [
       "{'ANAKIN': 0.161, 'KI-ADI': 0.0, 'MACE WINDU': 0.173}"
      ]
     },
     "execution_count": 8,
     "metadata": {},
     "output_type": "execute_result"
    }
   ],
   "source": [
    "recom = requests.get('http://localhost:5000/user/YODA/recommend').json()\n",
    "recom"
   ]
  },
  {
   "cell_type": "code",
   "execution_count": null,
   "metadata": {},
   "outputs": [],
   "source": []
  }
 ],
 "metadata": {
  "kernelspec": {
   "display_name": "Python 3",
   "language": "python",
   "name": "python3"
  },
  "language_info": {
   "codemirror_mode": {
    "name": "ipython",
    "version": 3
   },
   "file_extension": ".py",
   "mimetype": "text/x-python",
   "name": "python",
   "nbconvert_exporter": "python",
   "pygments_lexer": "ipython3",
   "version": "3.7.6"
  }
 },
 "nbformat": 4,
 "nbformat_minor": 4
}
