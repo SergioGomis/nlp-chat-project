{
 "cells": [
  {
   "cell_type": "markdown",
   "metadata": {},
   "source": [
    "# Análisis de sentimiento y recomendación de usuarios afines"
   ]
  },
  {
   "cell_type": "markdown",
   "metadata": {},
   "source": [
    "Incoporamos las conversaciones del fichero alojado en /inputs y vemos su análisis"
   ]
  },
  {
   "cell_type": "code",
   "execution_count": null,
   "metadata": {},
   "outputs": [],
   "source": [
    "import requests\n",
    "from inputs.conversations import *\n",
    "import random"
   ]
  },
  {
   "cell_type": "markdown",
   "metadata": {},
   "source": [
    "## Conversación 1"
   ]
  },
  {
   "cell_type": "code",
   "execution_count": null,
   "metadata": {},
   "outputs": [],
   "source": [
    "usuarios = list(set([mens['usuario'] for mens in conversacion1]))\n",
    "for usu in usuarios:\n",
    "    requests.get(f'http://localhost:5000/user/create/{usu}').text\n",
    "response = requests.get('http://localhost:5000/chat/create', params={\"nombre\":conv1_nombre,\n",
    "                                                                    \"usuarios\":usuarios}).text\n",
    "print(response)\n",
    "chatid = response[5:9]\n",
    "for mens in conversacion1:\n",
    "    response = requests.get(f'http://localhost:5000/chat/{chatid}/addmessage', params=mens).text\n",
    "    print(response)"
   ]
  },
  {
   "cell_type": "code",
   "execution_count": null,
   "metadata": {},
   "outputs": [],
   "source": [
    "response = requests.get(f'http://localhost:5000/chat/{chatid}/list').json()\n",
    "response"
   ]
  },
  {
   "cell_type": "code",
   "execution_count": null,
   "metadata": {},
   "outputs": [],
   "source": [
    "response = requests.get(f'http://localhost:5000/chat/{chatid}/sentiment').json()\n",
    "response"
   ]
  },
  {
   "cell_type": "markdown",
   "metadata": {},
   "source": [
    "# Conversación 2 "
   ]
  },
  {
   "cell_type": "code",
   "execution_count": null,
   "metadata": {},
   "outputs": [],
   "source": [
    "usuarios = list(set([mens['usuario'] for mens in conversacion2]))\n",
    "print(usuarios)\n",
    "for usu in usuarios:\n",
    "    requests.get(f'http://localhost:5000/user/create/{usu}').text\n",
    "response = requests.get('http://localhost:5000/chat/create', params={\"nombre\":conv2_nombre,\n",
    "                                                                    \"usuarios\":usuarios}).text\n",
    "print(response)\n",
    "chatid = response[5:9]\n",
    "for mens in conversacion2:\n",
    "    response = requests.get(f'http://localhost:5000/chat/{chatid}/addmessage', params=mens).text"
   ]
  },
  {
   "cell_type": "code",
   "execution_count": null,
   "metadata": {},
   "outputs": [],
   "source": [
    "response = requests.get(f'http://localhost:5000/chat/{chatid}/list').json()\n",
    "response"
   ]
  },
  {
   "cell_type": "code",
   "execution_count": null,
   "metadata": {},
   "outputs": [],
   "source": [
    "response = requests.get(f'http://localhost:5000/chat/{chatid}/sentiment').json()\n",
    "response"
   ]
  },
  {
   "cell_type": "code",
   "execution_count": null,
   "metadata": {},
   "outputs": [],
   "source": [
    "usuario_escogido = random.choice(usuarios)\n",
    "usuario_escogido"
   ]
  },
  {
   "cell_type": "code",
   "execution_count": null,
   "metadata": {},
   "outputs": [],
   "source": [
    "recom = requests.get(f'http://localhost:5000/user/{usuario_escogido}/recommend').json()\n",
    "recom"
   ]
  },
  {
   "cell_type": "markdown",
   "metadata": {},
   "source": [
    "# Conversación 3"
   ]
  },
  {
   "cell_type": "markdown",
   "metadata": {},
   "source": [
    "\n",
    "<img src=\"./images/chat.png\" width=\"400\">"
   ]
  },
  {
   "cell_type": "code",
   "execution_count": null,
   "metadata": {},
   "outputs": [],
   "source": [
    "usuarios = list(set([mens['usuario'] for mens in conversacion3]))\n",
    "print(usuarios)\n",
    "for usu in usuarios:\n",
    "    requests.get(f'http://localhost:5000/user/create/{usu}').text\n",
    "response = requests.get('http://localhost:5000/chat/create', params={\"nombre\":conv3_nombre,\n",
    "                                                                    \"usuarios\":usuarios}).text\n",
    "print(response)\n",
    "chatid = response[5:9]\n",
    "for mens in conversacion3:\n",
    "    response = requests.get(f'http://localhost:5000/chat/{chatid}/addmessage', params=mens).text"
   ]
  },
  {
   "cell_type": "code",
   "execution_count": null,
   "metadata": {},
   "outputs": [],
   "source": [
    "response = requests.get(f'http://localhost:5000/chat/{chatid}/list').json()\n",
    "response"
   ]
  },
  {
   "cell_type": "code",
   "execution_count": null,
   "metadata": {},
   "outputs": [],
   "source": [
    "recom = requests.get(f'http://localhost:5000/user/Marc/recommend').json()\n",
    "recom"
   ]
  },
  {
   "cell_type": "code",
   "execution_count": null,
   "metadata": {},
   "outputs": [],
   "source": []
  }
 ],
 "metadata": {
  "kernelspec": {
   "display_name": "Python 3",
   "language": "python",
   "name": "python3"
  },
  "language_info": {
   "codemirror_mode": {
    "name": "ipython",
    "version": 3
   },
   "file_extension": ".py",
   "mimetype": "text/x-python",
   "name": "python",
   "nbconvert_exporter": "python",
   "pygments_lexer": "ipython3",
   "version": "3.7.6"
  }
 },
 "nbformat": 4,
 "nbformat_minor": 4
}
