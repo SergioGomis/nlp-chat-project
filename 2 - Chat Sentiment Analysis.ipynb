{
 "cells": [
  {
   "cell_type": "markdown",
   "metadata": {},
   "source": [
    "# Análisis de sentimiento y recomendación de usuarios afines"
   ]
  },
  {
   "cell_type": "markdown",
   "metadata": {},
   "source": [
    "Incoporamos las conversaciones del fichero alojado en /inputs y vemos su análisis"
   ]
  },
  {
   "cell_type": "code",
   "execution_count": 1,
   "metadata": {},
   "outputs": [],
   "source": [
    "import requests\n",
    "URL_HEROKU = \"https://flask-nlp-project.herokuapp.com\"\n",
    "from inputs.conversations import *\n",
    "import random"
   ]
  },
  {
   "cell_type": "markdown",
   "metadata": {},
   "source": [
    "## Conversación 1"
   ]
  },
  {
   "cell_type": "code",
   "execution_count": 2,
   "metadata": {},
   "outputs": [
    {
     "name": "stdout",
     "output_type": "stream",
     "text": [
      "Chat 1008 creado correctamente\n",
      "✓✓ Mensaje enviado\n",
      "✓✓ Mensaje enviado\n",
      "✓✓ Mensaje enviado\n",
      "✓✓ Mensaje enviado\n",
      "✓✓ Mensaje enviado\n",
      "✓✓ Mensaje enviado\n",
      "✓✓ Mensaje enviado\n",
      "✓✓ Mensaje enviado\n",
      "✓✓ Mensaje enviado\n"
     ]
    }
   ],
   "source": [
    "usuarios = list(set([mens['usuario'] for mens in conversacion1]))\n",
    "for usu in usuarios:\n",
    "    requests.get(f'{URL_HEROKU}/user/create/{usu}').text\n",
    "response = requests.get(f'{URL_HEROKU}/chat/create', params={\"nombre\":conv1_nombre,\n",
    "                                                                    \"usuarios\":usuarios}).text\n",
    "print(response)\n",
    "chatid = response[5:9]\n",
    "for mens in conversacion1:\n",
    "    response = requests.get(f'{URL_HEROKU}/chat/{chatid}/addmessage', params=mens).text\n",
    "    print(response)"
   ]
  },
  {
   "cell_type": "code",
   "execution_count": 3,
   "metadata": {},
   "outputs": [
    {
     "data": {
      "text/plain": [
       "{'mensajes': [{'autor': 12, 'texto': \"Hi, I'm Pepe\"},\n",
       "  {'autor': 11, 'texto': 'I am Loli'},\n",
       "  {'autor': 12, 'texto': \"I'm 30 years old\"},\n",
       "  {'autor': 11, 'texto': 'I own a 5-star motel'},\n",
       "  {'autor': 12, 'texto': \"I feel like i'm insignifican lately, don't you? :(\"},\n",
       "  {'autor': 11, 'texto': 'Yeah, that happens to me too :('},\n",
       "  {'autor': 12,\n",
       "   'texto': 'We should get whoever is doing this to us and regain our freedom.'},\n",
       "  {'autor': 11,\n",
       "   'texto': \"I know where they are. Ironhack's classroom number 1, let's go get them.\"},\n",
       "  {'autor': 12, 'texto': \"I'm following you.\"}]}"
      ]
     },
     "execution_count": 3,
     "metadata": {},
     "output_type": "execute_result"
    }
   ],
   "source": [
    "response = requests.get(f'{URL_HEROKU}/chat/{chatid}/list').json()\n",
    "response"
   ]
  },
  {
   "cell_type": "code",
   "execution_count": 4,
   "metadata": {},
   "outputs": [
    {
     "data": {
      "text/plain": [
       "{'compound': 0.8727, 'neg': 0.03, 'neu': 0.769, 'pos': 0.201}"
      ]
     },
     "execution_count": 4,
     "metadata": {},
     "output_type": "execute_result"
    }
   ],
   "source": [
    "response = requests.get(f'{URL_HEROKU}/chat/{chatid}/sentiment').json()\n",
    "response"
   ]
  },
  {
   "cell_type": "markdown",
   "metadata": {},
   "source": [
    "# Conversación 2 "
   ]
  },
  {
   "cell_type": "code",
   "execution_count": 5,
   "metadata": {},
   "outputs": [
    {
     "name": "stdout",
     "output_type": "stream",
     "text": [
      "['Edu', 'Cristina', 'Héctor', 'Marc', 'Patri', 'Maic', 'Amanda', 'Guille', 'Ovi', 'Irene', 'Felipe', 'Clara', 'Jose']\n",
      "Chat 1009 creado correctamente\n"
     ]
    }
   ],
   "source": [
    "usuarios = list(set([mens['usuario'] for mens in conversacion2]))\n",
    "print(usuarios)\n",
    "for usu in usuarios:\n",
    "    requests.get(f'{URL_HEROKU}/user/create/{usu}').text\n",
    "response = requests.get(f'{URL_HEROKU}/chat/create', params={\"nombre\":conv2_nombre,\n",
    "                                                                    \"usuarios\":usuarios}).text\n",
    "print(response)\n",
    "chatid = response[5:9]\n",
    "for mens in conversacion2:\n",
    "    response = requests.get(f'{URL_HEROKU}/chat/{chatid}/addmessage', params=mens).text"
   ]
  },
  {
   "cell_type": "code",
   "execution_count": 6,
   "metadata": {},
   "outputs": [
    {
     "data": {
      "text/plain": [
       "{'mensajes': [{'autor': 13, 'texto': \"Today's kata is ready, guys :)\"},\n",
       "  {'autor': 15, 'texto': 'Pizza party on friday :)'},\n",
       "  {'autor': 22, 'texto': \"Someone hasn't paid today's pizzas.\"},\n",
       "  {'autor': 20, 'texto': \"Don't forget to accomplish the weekly survey\"},\n",
       "  {'autor': 23,\n",
       "   'texto': \"(On the megaphone) TODAY'S MEETING IS SET IN OPORTIÑO\"},\n",
       "  {'autor': 17,\n",
       "   'texto': 'I got a programming issue, my project is blowing away :('},\n",
       "  {'autor': 16, 'texto': 'My Baby Yoda figure is missing. Please help! :('},\n",
       "  {'autor': 2, 'texto': 'Who wants a ping-pong match?'},\n",
       "  {'autor': 14, 'texto': \"I'm gonna beat you awesomely\"},\n",
       "  {'autor': 19, 'texto': 'Mine is shorter. My kata solution, i mean.'},\n",
       "  {'autor': 21, 'texto': 'I wont spin the wheel, i was only 5 minutes late'},\n",
       "  {'autor': 6, 'texto': 'Wheel, Wheel!'},\n",
       "  {'autor': 18, 'texto': \"Don't worry. Free donuts for everyone! :D\"}]}"
      ]
     },
     "execution_count": 6,
     "metadata": {},
     "output_type": "execute_result"
    }
   ],
   "source": [
    "response = requests.get(f'{URL_HEROKU}/chat/{chatid}/list').json()\n",
    "response"
   ]
  },
  {
   "cell_type": "code",
   "execution_count": 7,
   "metadata": {},
   "outputs": [
    {
     "data": {
      "text/plain": [
       "{'compound': 0.9253, 'neg': 0.12, 'neu': 0.627, 'pos': 0.253}"
      ]
     },
     "execution_count": 7,
     "metadata": {},
     "output_type": "execute_result"
    }
   ],
   "source": [
    "response = requests.get(f'{URL_HEROKU}/chat/{chatid}/sentiment').json()\n",
    "response"
   ]
  },
  {
   "cell_type": "code",
   "execution_count": 8,
   "metadata": {},
   "outputs": [
    {
     "data": {
      "text/plain": [
       "'Felipe'"
      ]
     },
     "execution_count": 8,
     "metadata": {},
     "output_type": "execute_result"
    }
   ],
   "source": [
    "usuario_escogido = random.choice(usuarios)\n",
    "usuario_escogido"
   ]
  },
  {
   "cell_type": "code",
   "execution_count": 9,
   "metadata": {},
   "outputs": [
    {
     "data": {
      "text/plain": [
       "{'Amanda': 0.267, 'Clara': 0.267, 'Ovi': 0.338}"
      ]
     },
     "execution_count": 9,
     "metadata": {},
     "output_type": "execute_result"
    }
   ],
   "source": [
    "recom = requests.get(f'{URL_HEROKU}/user/{usuario_escogido}/recommend').json()\n",
    "recom"
   ]
  },
  {
   "cell_type": "markdown",
   "metadata": {},
   "source": [
    "# Conversación 3"
   ]
  },
  {
   "cell_type": "markdown",
   "metadata": {},
   "source": [
    "\n",
    "<img src=\"./images/chat.png\" width=\"400\">"
   ]
  },
  {
   "cell_type": "code",
   "execution_count": 10,
   "metadata": {},
   "outputs": [
    {
     "name": "stdout",
     "output_type": "stream",
     "text": [
      "['Laura', 'Marc']\n",
      "Chat 1010 creado correctamente\n"
     ]
    }
   ],
   "source": [
    "usuarios = list(set([mens['usuario'] for mens in conversacion3]))\n",
    "print(usuarios)\n",
    "for usu in usuarios:\n",
    "    requests.get(f'{URL_HEROKU}/user/create/{usu}').text\n",
    "response = requests.get(f'{URL_HEROKU}/chat/create', params={\"nombre\":conv3_nombre,\n",
    "                                                                    \"usuarios\":usuarios}).text\n",
    "print(response)\n",
    "chatid = response[5:9]\n",
    "for mens in conversacion3:\n",
    "    response = requests.get(f'{URL_HEROKU}/chat/{chatid}/addmessage', params=mens).text"
   ]
  },
  {
   "cell_type": "code",
   "execution_count": 11,
   "metadata": {},
   "outputs": [
    {
     "data": {
      "text/plain": [
       "{'mensajes': [{'autor': 23, 'texto': 'Os cuento un chiste? Es muy bueno'},\n",
       "  {'autor': 24, 'texto': 'Venga, va'},\n",
       "  {'autor': 23, 'texto': 'Van dos soldados en una moto y no se cae ninguno.'},\n",
       "  {'autor': 24, 'texto': '...'},\n",
       "  {'autor': 23, 'texto': 'Sabéis por qué?'},\n",
       "  {'autor': 24, 'texto': 'Por qué?'},\n",
       "  {'autor': 23, 'texto': 'Porque van SOLDADOS'},\n",
       "  {'autor': 24, 'texto': '*facepalm*'}]}"
      ]
     },
     "execution_count": 11,
     "metadata": {},
     "output_type": "execute_result"
    }
   ],
   "source": [
    "response = requests.get(f'{URL_HEROKU}/chat/{chatid}/list').json()\n",
    "response"
   ]
  },
  {
   "cell_type": "code",
   "execution_count": 12,
   "metadata": {},
   "outputs": [
    {
     "data": {
      "text/plain": [
       "{'Laura': 0.149, 'M.Rajoy': 0.217, 'Ovi': 0.149}"
      ]
     },
     "execution_count": 12,
     "metadata": {},
     "output_type": "execute_result"
    }
   ],
   "source": [
    "recom = requests.get(f'{URL_HEROKU}/user/Marc/recommend').json()\n",
    "recom"
   ]
  },
  {
   "cell_type": "code",
   "execution_count": null,
   "metadata": {},
   "outputs": [],
   "source": []
  },
  {
   "cell_type": "code",
   "execution_count": null,
   "metadata": {},
   "outputs": [],
   "source": []
  }
 ],
 "metadata": {
  "kernelspec": {
   "display_name": "Python 3",
   "language": "python",
   "name": "python3"
  },
  "language_info": {
   "codemirror_mode": {
    "name": "ipython",
    "version": 3
   },
   "file_extension": ".py",
   "mimetype": "text/x-python",
   "name": "python",
   "nbconvert_exporter": "python",
   "pygments_lexer": "ipython3",
   "version": "3.7.6"
  }
 },
 "nbformat": 4,
 "nbformat_minor": 4
}
