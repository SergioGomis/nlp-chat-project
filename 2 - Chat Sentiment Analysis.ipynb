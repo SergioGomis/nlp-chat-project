{
 "cells": [
  {
   "cell_type": "markdown",
   "metadata": {},
   "source": [
    "# Análisis de sentimiento y recomendación de usuarios afines"
   ]
  },
  {
   "cell_type": "markdown",
   "metadata": {},
   "source": [
    "Incoporamos las conversaciones del fichero alojado en /inputs y vemos su análisis"
   ]
  },
  {
   "cell_type": "code",
   "execution_count": 1,
   "metadata": {},
   "outputs": [],
   "source": [
    "import requests\n",
    "from inputs.conversations import *\n",
    "import random"
   ]
  },
  {
   "cell_type": "markdown",
   "metadata": {},
   "source": [
    "## Conversación 1"
   ]
  },
  {
   "cell_type": "code",
   "execution_count": 2,
   "metadata": {},
   "outputs": [
    {
     "name": "stdout",
     "output_type": "stream",
     "text": [
      "Chat 1005 creado correctamente\n",
      "✓✓ Mensaje enviado\n",
      "✓✓ Mensaje enviado\n",
      "✓✓ Mensaje enviado\n",
      "✓✓ Mensaje enviado\n",
      "✓✓ Mensaje enviado\n",
      "✓✓ Mensaje enviado\n",
      "✓✓ Mensaje enviado\n",
      "✓✓ Mensaje enviado\n",
      "✓✓ Mensaje enviado\n"
     ]
    }
   ],
   "source": [
    "usuarios = list(set([mens['usuario'] for mens in conversacion1]))\n",
    "for usu in usuarios:\n",
    "    requests.get(f'http://localhost:5000/user/create/{usu}').text\n",
    "response = requests.get('http://localhost:5000/chat/create', params={\"nombre\":conv1_nombre,\n",
    "                                                                    \"usuarios\":usuarios}).text\n",
    "print(response)\n",
    "chatid = response[5:9]\n",
    "for mens in conversacion1:\n",
    "    response = requests.get(f'http://localhost:5000/chat/{chatid}/addmessage', params=mens).text\n",
    "    print(response)"
   ]
  },
  {
   "cell_type": "code",
   "execution_count": 3,
   "metadata": {},
   "outputs": [
    {
     "data": {
      "text/plain": [
       "{'mensajes': [{'autor': 10, 'texto': 'Hola, soy Pepe'},\n",
       "  {'autor': 11, 'texto': 'Yo soy Loli'},\n",
       "  {'autor': 10, 'texto': 'Tengo 30 años'},\n",
       "  {'autor': 11, 'texto': 'Yo una pensión de 5 estrellas'},\n",
       "  {'autor': 10, 'texto': 'Me siento utilizado, a ti no te pasa? :('},\n",
       "  {'autor': 11, 'texto': 'Sí, también tengo esa sensación :('},\n",
       "  {'autor': 10,\n",
       "   'texto': 'Deberíamos denunciar a quien nos esté haciendo esto y recuperar nuestra libertad.'},\n",
       "  {'autor': 11, 'texto': 'Son los del Aula 1 de Ironhack, vamos a por ellos.'},\n",
       "  {'autor': 10, 'texto': 'Estoy contigo. Les daremos su merecido.'}]}"
      ]
     },
     "execution_count": 3,
     "metadata": {},
     "output_type": "execute_result"
    }
   ],
   "source": [
    "response = requests.get(f'http://localhost:5000/chat/{chatid}/list').json()\n",
    "response"
   ]
  },
  {
   "cell_type": "code",
   "execution_count": 4,
   "metadata": {},
   "outputs": [
    {
     "data": {
      "text/plain": [
       "{'compound': -0.7906, 'neg': 0.138, 'neu': 0.862, 'pos': 0.0}"
      ]
     },
     "execution_count": 4,
     "metadata": {},
     "output_type": "execute_result"
    }
   ],
   "source": [
    "response = requests.get(f'http://localhost:5000/chat/{chatid}/sentiment').json()\n",
    "response"
   ]
  },
  {
   "cell_type": "markdown",
   "metadata": {},
   "source": [
    "# Conversación 2 "
   ]
  },
  {
   "cell_type": "code",
   "execution_count": 5,
   "metadata": {},
   "outputs": [
    {
     "name": "stdout",
     "output_type": "stream",
     "text": [
      "['Jose', 'Cristina', 'Héctor', 'Maic', 'Marc', 'Clara', 'Patri', 'Amanda', 'Edu', 'Felipe', 'Ovi', 'Irene', 'Guille']\n",
      "Chat 1006 creado correctamente\n"
     ]
    }
   ],
   "source": [
    "usuarios = list(set([mens['usuario'] for mens in conversacion2]))\n",
    "print(usuarios)\n",
    "for usu in usuarios:\n",
    "    requests.get(f'http://localhost:5000/user/create/{usu}').text\n",
    "response = requests.get('http://localhost:5000/chat/create', params={\"nombre\":conv2_nombre,\n",
    "                                                                    \"usuarios\":usuarios}).text\n",
    "print(response)\n",
    "chatid = response[5:9]\n",
    "for mens in conversacion2:\n",
    "    response = requests.get(f'http://localhost:5000/chat/{chatid}/addmessage', params=mens).text"
   ]
  },
  {
   "cell_type": "code",
   "execution_count": 6,
   "metadata": {},
   "outputs": [
    {
     "data": {
      "text/plain": [
       "{'mensajes': [{'autor': 21, 'texto': 'Ya tenéis la kata, chicos :)'},\n",
       "  {'autor': 22, 'texto': 'El viernes pizza party :)'},\n",
       "  {'autor': 18, 'texto': 'Falta gente por pagar las pizzas'},\n",
       "  {'autor': 23, 'texto': 'Acordaos de rellenar la encuesta semanal.'},\n",
       "  {'autor': 24,\n",
       "   'texto': 'Se abre la convocatoria de cervezas para el Oportiño'},\n",
       "  {'autor': 19, 'texto': 'Tengo un problema, me da un error :('},\n",
       "  {'autor': 16, 'texto': 'Ha desaparecido mi baby Yoda :('},\n",
       "  {'autor': 2, 'texto': 'Una partida al ping-pong?'},\n",
       "  {'autor': 20, 'texto': 'Te reviento al ping-pong, payaso'},\n",
       "  {'autor': 25,\n",
       "   'texto': 'Os paso mi solución para la kata, que es mucho mejor.'},\n",
       "  {'autor': 17, 'texto': 'De ruleta nada, solo he llegado 5 minutos tarde'},\n",
       "  {'autor': 6, 'texto': 'Ruleta, ruleta!'},\n",
       "  {'autor': 26, 'texto': 'No os preocupéis. Desayuno gratis para todos! :)'}]}"
      ]
     },
     "execution_count": 6,
     "metadata": {},
     "output_type": "execute_result"
    }
   ],
   "source": [
    "response = requests.get(f'http://localhost:5000/chat/{chatid}/list').json()\n",
    "response"
   ]
  },
  {
   "cell_type": "code",
   "execution_count": 7,
   "metadata": {},
   "outputs": [
    {
     "data": {
      "text/plain": [
       "{'compound': 0.6351, 'neg': 0.106, 'neu': 0.736, 'pos': 0.158}"
      ]
     },
     "execution_count": 7,
     "metadata": {},
     "output_type": "execute_result"
    }
   ],
   "source": [
    "response = requests.get(f'http://localhost:5000/chat/{chatid}/sentiment').json()\n",
    "response"
   ]
  },
  {
   "cell_type": "code",
   "execution_count": 8,
   "metadata": {},
   "outputs": [
    {
     "data": {
      "text/plain": [
       "'Maic'"
      ]
     },
     "execution_count": 8,
     "metadata": {},
     "output_type": "execute_result"
    }
   ],
   "source": [
    "usuario_escogido = random.choice(usuarios)\n",
    "usuario_escogido"
   ]
  },
  {
   "cell_type": "code",
   "execution_count": 9,
   "metadata": {},
   "outputs": [
    {
     "data": {
      "text/plain": [
       "{'Felipe': 0.228, 'Marc': 0.126, 'Pepe': 0.07}"
      ]
     },
     "execution_count": 9,
     "metadata": {},
     "output_type": "execute_result"
    }
   ],
   "source": [
    "recom = requests.get(f'http://localhost:5000/user/{usuario_escogido}/recommend').json()\n",
    "recom"
   ]
  },
  {
   "cell_type": "markdown",
   "metadata": {},
   "source": [
    "# Conversación 3"
   ]
  },
  {
   "cell_type": "markdown",
   "metadata": {},
   "source": [
    "\n",
    "<img src=\"./images/chat.png\" width=\"400\">"
   ]
  },
  {
   "cell_type": "code",
   "execution_count": 10,
   "metadata": {},
   "outputs": [
    {
     "name": "stdout",
     "output_type": "stream",
     "text": [
      "['Laura', 'Marc']\n",
      "Chat 1007 creado correctamente\n"
     ]
    }
   ],
   "source": [
    "usuarios = list(set([mens['usuario'] for mens in conversacion3]))\n",
    "print(usuarios)\n",
    "for usu in usuarios:\n",
    "    requests.get(f'http://localhost:5000/user/create/{usu}').text\n",
    "response = requests.get('http://localhost:5000/chat/create', params={\"nombre\":conv3_nombre,\n",
    "                                                                    \"usuarios\":usuarios}).text\n",
    "print(response)\n",
    "chatid = response[5:9]\n",
    "for mens in conversacion3:\n",
    "    response = requests.get(f'http://localhost:5000/chat/{chatid}/addmessage', params=mens).text"
   ]
  },
  {
   "cell_type": "code",
   "execution_count": 11,
   "metadata": {},
   "outputs": [
    {
     "data": {
      "text/plain": [
       "{'mensajes': [{'autor': 24, 'texto': 'Os cuento un chiste? Es muy bueno'},\n",
       "  {'autor': 27, 'texto': 'Venga, va'},\n",
       "  {'autor': 24, 'texto': 'Van dos soldados en una moto y no se cae ninguno.'},\n",
       "  {'autor': 27, 'texto': '...'},\n",
       "  {'autor': 24, 'texto': 'Sabéis por qué?'},\n",
       "  {'autor': 27, 'texto': 'Por qué?'},\n",
       "  {'autor': 24, 'texto': 'Porque van SOLDADOS'},\n",
       "  {'autor': 27, 'texto': '*facepalm*'}]}"
      ]
     },
     "execution_count": 11,
     "metadata": {},
     "output_type": "execute_result"
    }
   ],
   "source": [
    "response = requests.get(f'http://localhost:5000/chat/{chatid}/list').json()\n",
    "response"
   ]
  },
  {
   "cell_type": "code",
   "execution_count": 12,
   "metadata": {},
   "outputs": [
    {
     "data": {
      "text/plain": [
       "{'Felipe': 0.221, 'Jose': 0.2, 'Maic': 0.185}"
      ]
     },
     "execution_count": 12,
     "metadata": {},
     "output_type": "execute_result"
    }
   ],
   "source": [
    "recom = requests.get(f'http://localhost:5000/user/Marc/recommend').json()\n",
    "recom"
   ]
  },
  {
   "cell_type": "code",
   "execution_count": null,
   "metadata": {},
   "outputs": [],
   "source": []
  }
 ],
 "metadata": {
  "kernelspec": {
   "display_name": "Python 3",
   "language": "python",
   "name": "python3"
  },
  "language_info": {
   "codemirror_mode": {
    "name": "ipython",
    "version": 3
   },
   "file_extension": ".py",
   "mimetype": "text/x-python",
   "name": "python",
   "nbconvert_exporter": "python",
   "pygments_lexer": "ipython3",
   "version": "3.7.6"
  }
 },
 "nbformat": 4,
 "nbformat_minor": 4
}
