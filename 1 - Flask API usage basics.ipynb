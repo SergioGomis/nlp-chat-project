{
 "cells": [
  {
   "cell_type": "code",
   "execution_count": 2,
   "metadata": {},
   "outputs": [],
   "source": [
    "import requests"
   ]
  },
  {
   "cell_type": "code",
   "execution_count": null,
   "metadata": {},
   "outputs": [],
   "source": []
  },
  {
   "cell_type": "code",
   "execution_count": 5,
   "metadata": {},
   "outputs": [],
   "source": [
    "usuarios = ['Sergio','Héctor','Santi','María','Fer','Cristina','Marlena','Iván']"
   ]
  },
  {
   "cell_type": "code",
   "execution_count": 6,
   "metadata": {},
   "outputs": [],
   "source": [
    "for usuario in usuarios:\n",
    "    requests.get(f'http://localhost:5000/user/create/{usuario}')"
   ]
  },
  {
   "cell_type": "code",
   "execution_count": null,
   "metadata": {},
   "outputs": [],
   "source": []
  },
  {
   "cell_type": "code",
   "execution_count": 39,
   "metadata": {},
   "outputs": [
    {
     "data": {
      "text/plain": [
       "<Response [200]>"
      ]
     },
     "execution_count": 39,
     "metadata": {},
     "output_type": "execute_result"
    }
   ],
   "source": [
    "requests.get('http://localhost:5000/user/create/Maggie')"
   ]
  },
  {
   "cell_type": "code",
   "execution_count": null,
   "metadata": {},
   "outputs": [],
   "source": []
  },
  {
   "cell_type": "code",
   "execution_count": 15,
   "metadata": {},
   "outputs": [
    {
     "data": {
      "text/plain": [
       "<Response [200]>"
      ]
     },
     "execution_count": 15,
     "metadata": {},
     "output_type": "execute_result"
    }
   ],
   "source": [
    "#requests.get('http://localhost:5000/test?user[]=Cristina&user[]=María')"
   ]
  },
  {
   "cell_type": "code",
   "execution_count": null,
   "metadata": {},
   "outputs": [],
   "source": []
  },
  {
   "cell_type": "markdown",
   "metadata": {},
   "source": [
    "Cogemos los id de 5 usuarios aleatorios para crear un chat con ellos dentro"
   ]
  },
  {
   "cell_type": "code",
   "execution_count": 13,
   "metadata": {},
   "outputs": [
    {
     "name": "stdout",
     "output_type": "stream",
     "text": [
      "[{'_id': 2, 'name': 'Héctor'}, {'_id': 6, 'name': 'Cristina'}]\n",
      "[2, 6]\n"
     ]
    }
   ],
   "source": [
    "\n",
    "lista_ids = requests.get('http://localhost:5000/users/2').json()\n",
    "print(lista_ids)\n",
    "lista_ids = [elem['_id'] for elem in lista_ids]\n",
    "print(lista_ids)"
   ]
  },
  {
   "cell_type": "markdown",
   "metadata": {},
   "source": [
    "Se los pasamos por parámetro en forma de lista"
   ]
  },
  {
   "cell_type": "code",
   "execution_count": 14,
   "metadata": {},
   "outputs": [],
   "source": [
    "data = {\"nombre\":\"chiste Marc\",\n",
    "        \"usuarios\":lista_ids}\n",
    "response = requests.get('http://localhost:5000/chat/create', params=data)"
   ]
  },
  {
   "cell_type": "code",
   "execution_count": 22,
   "metadata": {},
   "outputs": [
    {
     "data": {
      "text/plain": [
       "<Response [200]>"
      ]
     },
     "execution_count": 22,
     "metadata": {},
     "output_type": "execute_result"
    }
   ],
   "source": [
    "response"
   ]
  },
  {
   "cell_type": "code",
   "execution_count": null,
   "metadata": {},
   "outputs": [],
   "source": []
  },
  {
   "cell_type": "markdown",
   "metadata": {},
   "source": [
    "Nos añade un usuario a un chat existente"
   ]
  },
  {
   "cell_type": "code",
   "execution_count": 11,
   "metadata": {},
   "outputs": [
    {
     "data": {
      "text/plain": [
       "<Response [200]>"
      ]
     },
     "execution_count": 11,
     "metadata": {},
     "output_type": "execute_result"
    }
   ],
   "source": [
    "data = {\"usuario\":1}\n",
    "response = requests.get('http://localhost:5000/chat/1000/adduser', params=data)\n",
    "response"
   ]
  },
  {
   "cell_type": "code",
   "execution_count": null,
   "metadata": {},
   "outputs": [],
   "source": []
  },
  {
   "cell_type": "code",
   "execution_count": null,
   "metadata": {},
   "outputs": [],
   "source": []
  },
  {
   "cell_type": "code",
   "execution_count": null,
   "metadata": {},
   "outputs": [],
   "source": []
  },
  {
   "cell_type": "markdown",
   "metadata": {},
   "source": [
    "Nos añade un mensaje a un chat"
   ]
  },
  {
   "cell_type": "code",
   "execution_count": 12,
   "metadata": {},
   "outputs": [],
   "source": [
    "data = {\"usuario\":1,\"mensaje\":\"Hey there! I am using Flask.\"}\n",
    "response = requests.get('http://localhost:5000/chat/1000/addmessage', params=data)"
   ]
  },
  {
   "cell_type": "code",
   "execution_count": null,
   "metadata": {},
   "outputs": [],
   "source": []
  },
  {
   "cell_type": "markdown",
   "metadata": {},
   "source": [
    "Nos añade varios mensajes"
   ]
  },
  {
   "cell_type": "code",
   "execution_count": 15,
   "metadata": {},
   "outputs": [
    {
     "data": {
      "text/plain": [
       "<Response [200]>"
      ]
     },
     "execution_count": 15,
     "metadata": {},
     "output_type": "execute_result"
    }
   ],
   "source": [
    "data = [{\"usuario\":2,\"mensaje\":\"Van dos soldados en moto y no se cae ninguno\"},\n",
    "        {\"usuario\":6,\"mensaje\":\"...\"},\n",
    "        {\"usuario\":2,\"mensaje\":\"Porque van SOLDADOS\"},\n",
    "        {\"usuario\":6,\"mensaje\":\"...\"},\n",
    "        {\"usuario\":6,\"mensaje\":\"Marc, pls, stahp\"}]\n",
    "for elem in data:\n",
    "    response = requests.get('http://localhost:5000/chat/1001/addmessage', params=elem)\n",
    "response"
   ]
  },
  {
   "cell_type": "markdown",
   "metadata": {},
   "source": [
    "mostrar mensajes de un chat"
   ]
  },
  {
   "cell_type": "code",
   "execution_count": 37,
   "metadata": {},
   "outputs": [
    {
     "data": {
      "text/plain": [
       "{'mensajes': [{'autor': 11, 'texto': 'A ship...a cup...a speeder.'},\n",
       "  {'autor': 12, 'texto': 'Good, good, young one. How feel you?'},\n",
       "  {'autor': 11, 'texto': 'Cold, sir.'},\n",
       "  {'autor': 12, 'texto': 'Afraid are you?'},\n",
       "  {'autor': 11, 'texto': 'No, sir.'},\n",
       "  {'autor': 13, 'texto': 'Afraid to give up your life?'},\n",
       "  {'autor': 11, 'texto': \"I don't think so.\"},\n",
       "  {'autor': 12, 'texto': 'See through you, we can.'},\n",
       "  {'autor': 13, 'texto': 'Be mindful of your feelings...'},\n",
       "  {'autor': 14, 'texto': 'YOur thoughts dwell on your mother.'},\n",
       "  {'autor': 11, 'texto': 'I miss her.'},\n",
       "  {'autor': 12, 'texto': 'Afraid to lose her..I think.'},\n",
       "  {'autor': 11,\n",
       "   'texto': \"(a little angry) What's that got to do with anything?\"},\n",
       "  {'autor': 12,\n",
       "   'texto': 'Eveything. Fear is the path to the dark side... fear leads to anger... anger leads to hate.. hate leads to suffering.'},\n",
       "  {'autor': 11, 'texto': '(angrily) I am not afraid!'},\n",
       "  {'autor': 12,\n",
       "   'texto': 'A Jedi must have the deepest commitment, the most serious mind. I sense much fear in you.'},\n",
       "  {'autor': 11, 'texto': '(quietly) I am not afraid.'},\n",
       "  {'autor': 12, 'texto': 'Then continue, we will.'}]}"
      ]
     },
     "execution_count": 37,
     "metadata": {},
     "output_type": "execute_result"
    }
   ],
   "source": [
    "response = requests.get('http://localhost:5000/chat/1002/list').json()\n",
    "response"
   ]
  },
  {
   "cell_type": "code",
   "execution_count": null,
   "metadata": {},
   "outputs": [],
   "source": []
  },
  {
   "cell_type": "code",
   "execution_count": 34,
   "metadata": {},
   "outputs": [
    {
     "data": {
      "text/plain": [
       "<Response [200]>"
      ]
     },
     "execution_count": 34,
     "metadata": {},
     "output_type": "execute_result"
    }
   ],
   "source": [
    "response = requests.get('http://localhost:5000/chat/1001/changename/chiste malo de Marc')\n",
    "response"
   ]
  },
  {
   "cell_type": "code",
   "execution_count": null,
   "metadata": {},
   "outputs": [],
   "source": []
  }
 ],
 "metadata": {
  "kernelspec": {
   "display_name": "Python 3",
   "language": "python",
   "name": "python3"
  },
  "language_info": {
   "codemirror_mode": {
    "name": "ipython",
    "version": 3
   },
   "file_extension": ".py",
   "mimetype": "text/x-python",
   "name": "python",
   "nbconvert_exporter": "python",
   "pygments_lexer": "ipython3",
   "version": "3.7.6"
  }
 },
 "nbformat": 4,
 "nbformat_minor": 4
}
