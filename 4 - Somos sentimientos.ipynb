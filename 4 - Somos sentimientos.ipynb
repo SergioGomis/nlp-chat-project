{
 "cells": [
  {
   "cell_type": "markdown",
   "metadata": {},
   "source": [
    "# \"...y tenemos seres humanos\""
   ]
  },
  {
   "cell_type": "markdown",
   "metadata": {},
   "source": [
    "Analizamos la positividad/negatividad de un gran orador de nuestro tiempo, de quien cogeremos sus célebres frases haciendo web-scraping"
   ]
  },
  {
   "cell_type": "code",
   "execution_count": 1,
   "metadata": {},
   "outputs": [],
   "source": [
    "import requests\n",
    "import json\n",
    "from bs4 import BeautifulSoup"
   ]
  },
  {
   "cell_type": "code",
   "execution_count": 2,
   "metadata": {},
   "outputs": [],
   "source": [
    "url_mr = 'https://es.wikiquote.org/wiki/Mariano_Rajoy'"
   ]
  },
  {
   "cell_type": "code",
   "execution_count": 3,
   "metadata": {},
   "outputs": [],
   "source": [
    "data_mr = requests.get(url_mr).text\n",
    "soup_mr = BeautifulSoup(data_mr, 'html.parser')"
   ]
  },
  {
   "cell_type": "code",
   "execution_count": 4,
   "metadata": {},
   "outputs": [],
   "source": [
    "x = soup_mr.find_all('li')"
   ]
  },
  {
   "cell_type": "code",
   "execution_count": 10,
   "metadata": {},
   "outputs": [],
   "source": [
    "sal = []\n",
    "for i in x:\n",
    "    y = (i.text).split('\\n')\n",
    "    if 'Fuente' not in y[0] and 'Nota: ' not in y[0]:\n",
    "        sal.append(y[0])\n",
    "        \n",
    "data = [x for x in sal[:106] if \"\\\"\" in x or \"«\" in x]"
   ]
  },
  {
   "cell_type": "code",
   "execution_count": 11,
   "metadata": {},
   "outputs": [
    {
     "data": {
      "text/plain": [
       "88"
      ]
     },
     "execution_count": 11,
     "metadata": {},
     "output_type": "execute_result"
    }
   ],
   "source": [
    "len(data)"
   ]
  },
  {
   "cell_type": "markdown",
   "metadata": {},
   "source": [
    "### Las incorporamos vía API y analizamos su positividad"
   ]
  },
  {
   "cell_type": "code",
   "execution_count": 12,
   "metadata": {},
   "outputs": [
    {
     "name": "stdout",
     "output_type": "stream",
     "text": [
      "Usuario M.Rajoy añadido con id 21\n"
     ]
    }
   ],
   "source": [
    "res = requests.get(f'http://localhost:5000/user/create/M.Rajoy').text\n",
    "print(res)"
   ]
  },
  {
   "cell_type": "code",
   "execution_count": 13,
   "metadata": {},
   "outputs": [
    {
     "name": "stdout",
     "output_type": "stream",
     "text": [
      "Chat 1013 creado correctamente\n"
     ]
    }
   ],
   "source": [
    "datos = {\"nombre\":\"Compendio frases célebres Rajoy\",\n",
    "        \"usuarios\":['M.Rajoy']}\n",
    "resultado = requests.get('http://localhost:5000/chat/create', params=datos).text\n",
    "print(resultado)"
   ]
  },
  {
   "cell_type": "code",
   "execution_count": 14,
   "metadata": {},
   "outputs": [],
   "source": [
    "chatid = resultado[5:9]"
   ]
  },
  {
   "cell_type": "code",
   "execution_count": 15,
   "metadata": {},
   "outputs": [],
   "source": [
    "for a in data:\n",
    "    requests.get(f'http://localhost:5000/chat/{chatid}/addmessage', params={\"usuario\":'M.Rajoy',\"mensaje\":a})\n"
   ]
  },
  {
   "cell_type": "code",
   "execution_count": 18,
   "metadata": {},
   "outputs": [
    {
     "data": {
      "text/plain": [
       "[{'autor': 21, 'texto': '«Las decisiones se toman en el momento de tomarse»'},\n",
       " {'autor': 21, 'texto': '«Querido alcalde de Alicante... que así se llama»'},\n",
       " {'autor': 21,\n",
       "  'texto': '«Hay cosas bonitas, otras no tanto y no me acuerdo de ninguna»'},\n",
       " {'autor': 21,\n",
       "  'texto': '«Yo puedo asegurarles a ustedes que haré todo lo que pueda y un poco más de lo que pueda, si es que eso es posible, y haré todo lo posible e incluso lo imposible, si también lo imposible es posible»'},\n",
       " {'autor': 21,\n",
       "  'texto': '«Hacemos lo que lo podemos significa lo que exactamente significa hacemos lo que lo podemos»'}]"
      ]
     },
     "execution_count": 18,
     "metadata": {},
     "output_type": "execute_result"
    }
   ],
   "source": [
    "response = requests.get(f'http://localhost:5000/chat/{chatid}/list').json()\n",
    "response['mensajes'][:5]"
   ]
  },
  {
   "cell_type": "code",
   "execution_count": 19,
   "metadata": {},
   "outputs": [
    {
     "data": {
      "text/plain": [
       "{'compound': -0.9965, 'neg': 0.061, 'neu': 0.917, 'pos': 0.022}"
      ]
     },
     "execution_count": 19,
     "metadata": {},
     "output_type": "execute_result"
    }
   ],
   "source": [
    "response = requests.get(f'http://localhost:5000/chat/{chatid}/sentiment').json()\n",
    "response"
   ]
  }
 ],
 "metadata": {
  "kernelspec": {
   "display_name": "Python 3",
   "language": "python",
   "name": "python3"
  },
  "language_info": {
   "codemirror_mode": {
    "name": "ipython",
    "version": 3
   },
   "file_extension": ".py",
   "mimetype": "text/x-python",
   "name": "python",
   "nbconvert_exporter": "python",
   "pygments_lexer": "ipython3",
   "version": "3.7.6"
  }
 },
 "nbformat": 4,
 "nbformat_minor": 4
}
